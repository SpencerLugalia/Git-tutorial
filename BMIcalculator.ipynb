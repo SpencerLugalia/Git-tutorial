{
 "cells": [
  {
   "cell_type": "markdown",
   "metadata": {},
   "source": [
    "\n",
    "BMI Calculator"
   ]
  },
  {
   "cell_type": "code",
   "execution_count": 8,
   "metadata": {},
   "outputs": [
    {
     "name": "stdout",
     "output_type": "stream",
     "text": [
      "HelloSpence. welcome to our BMI calctulation system\n"
     ]
    }
   ],
   "source": [
    "name = input(\"what is your name: \")\n",
    "print(f\"Hello{name}. welcome to our BMI calctulation system\")"
   ]
  },
  {
   "cell_type": "code",
   "execution_count": 11,
   "metadata": {},
   "outputs": [
    {
     "name": "stdout",
     "output_type": "stream",
     "text": [
      "provide us witn the information below: \n",
      "==============BMI Results============\n",
      "Your Bmi is:27.76\n",
      "Overweight\n"
     ]
    }
   ],
   "source": [
    "print(\"provide us witn the information below: \")\n",
    "weight = float(input(\"Enter your weight: Kgs \"))\n",
    "height = float (input(\"Enter your height: Metres\"))\n",
    "\n",
    "BMI = round(weight/(height*height),2)\n",
    "\n",
    "print (\"==============BMI Results============\")\n",
    "print(f\"Your Bmi is:{BMI}\")\n",
    "\n",
    "if BMI > 25:\n",
    "    print(\"Overweight\")\n",
    "elif BMI <18:\n",
    "    print (\"Underweight\")\n",
    "else:\n",
    "    print(\"Normal\")"
   ]
  },
  {
   "cell_type": "code",
   "execution_count": null,
   "metadata": {},
   "outputs": [],
   "source": []
  }
 ],
 "metadata": {
  "kernelspec": {
   "display_name": "base",
   "language": "python",
   "name": "python3"
  },
  "language_info": {
   "codemirror_mode": {
    "name": "ipython",
    "version": 3
   },
   "file_extension": ".py",
   "mimetype": "text/x-python",
   "name": "python",
   "nbconvert_exporter": "python",
   "pygments_lexer": "ipython3",
   "version": "3.11.7"
  }
 },
 "nbformat": 4,
 "nbformat_minor": 2
}
